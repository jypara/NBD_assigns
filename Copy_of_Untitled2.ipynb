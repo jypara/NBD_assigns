{
  "nbformat": 4,
  "nbformat_minor": 0,
  "metadata": {
    "colab": {
      "name": "Copy of Untitled2.ipynb",
      "provenance": [],
      "authorship_tag": "ABX9TyOwIkl/9RQaT19gsau3rYEH",
      "include_colab_link": true
    },
    "kernelspec": {
      "name": "python3",
      "display_name": "Python 3"
    }
  },
  "cells": [
    {
      "cell_type": "markdown",
      "metadata": {
        "id": "view-in-github",
        "colab_type": "text"
      },
      "source": [
        "<a href=\"https://colab.research.google.com/github/jypara/NBD_assigns/blob/master/Copy_of_Untitled2.ipynb\" target=\"_parent\"><img src=\"https://colab.research.google.com/assets/colab-badge.svg\" alt=\"Open In Colab\"/></a>"
      ]
    },
    {
      "cell_type": "code",
      "metadata": {
        "id": "XovOe6x1FW6s",
        "outputId": "dd7aebbe-9e8f-499c-e997-ce44a6325b56",
        "colab": {
          "base_uri": "https://localhost:8080/"
        }
      },
      "source": [
        "import numpy as np\n",
        "from sklearn.metrics import jaccard_score\n",
        "from itertools import permutations \n",
        "\n",
        "C = [[0, 0, 1, 1, 0], \n",
        "    [ 0, 0, 0, 0, 1],\n",
        "    [ 1, 1, 0, 1, 0],\n",
        "    [ 0, 0, 1, 1, 1]]\n",
        "\n",
        "def jaccardd(l1, l2):\n",
        "    intersection = len(list(set(l1).intersection(l2)))\n",
        "    union = (len(l1) + len(l2)) - intersection\n",
        "    return float(intersection) / union\n",
        "\n",
        "for i in range(len(C)-1):\n",
        "    jac = jaccardd(C[i], C[i+1])\n",
        "    print(jac)\n",
        "    print (\"------------------------------------------\")\n",
        "\n",
        "\n",
        "\n",
        "\n",
        "\n",
        "    "
      ],
      "execution_count": null,
      "outputs": [
        {
          "output_type": "stream",
          "text": [
            "0.25\n",
            "------------------------------------------\n",
            "0.25\n",
            "------------------------------------------\n",
            "0.25\n",
            "------------------------------------------\n"
          ],
          "name": "stdout"
        }
      ]
    },
    {
      "cell_type": "code",
      "metadata": {
        "id": "akRVLeTPzZMY",
        "outputId": "794d6b54-29cb-44da-de2d-22aa1950f8e2",
        "colab": {
          "base_uri": "https://localhost:8080/",
          "height": 367
        }
      },
      "source": [
        "from itertools import permutations \n",
        "from datasketch import MinHash, MinHashLSH\n",
        "\n",
        "perm = permutations([0, 1, 2, 3, 4]) \n",
        "c = [[0, 0, 1, 1, 0], \n",
        "    [ 0, 0, 0, 0, 1],\n",
        "    [ 1, 1, 0, 1, 0],\n",
        "    [ 0, 0, 1, 1, 1]]\n",
        "\n",
        "def minhash(perm):\n",
        "  for i in range(len(perm)):\n",
        "    if(c[perm[i]]):\n",
        "      return perm[i]\n",
        "\n",
        "\n",
        "for i in list(perm): \n",
        "  print(minhash(i))\n",
        "\n",
        "    #print(minhash(i))\n",
        "    #print(i) \n"
      ],
      "execution_count": null,
      "outputs": [
        {
          "output_type": "error",
          "ename": "ModuleNotFoundError",
          "evalue": "ignored",
          "traceback": [
            "\u001b[0;31m---------------------------------------------------------------------------\u001b[0m",
            "\u001b[0;31mModuleNotFoundError\u001b[0m                       Traceback (most recent call last)",
            "\u001b[0;32m<ipython-input-22-255f8fea8025>\u001b[0m in \u001b[0;36m<module>\u001b[0;34m()\u001b[0m\n\u001b[1;32m      1\u001b[0m \u001b[0;32mfrom\u001b[0m \u001b[0mitertools\u001b[0m \u001b[0;32mimport\u001b[0m \u001b[0mpermutations\u001b[0m\u001b[0;34m\u001b[0m\u001b[0;34m\u001b[0m\u001b[0m\n\u001b[0;32m----> 2\u001b[0;31m \u001b[0;32mfrom\u001b[0m \u001b[0mdatasketch\u001b[0m \u001b[0;32mimport\u001b[0m \u001b[0mMinHash\u001b[0m\u001b[0;34m,\u001b[0m \u001b[0mMinHashLSH\u001b[0m\u001b[0;34m\u001b[0m\u001b[0;34m\u001b[0m\u001b[0m\n\u001b[0m\u001b[1;32m      3\u001b[0m \u001b[0;34m\u001b[0m\u001b[0m\n\u001b[1;32m      4\u001b[0m \u001b[0mperm\u001b[0m \u001b[0;34m=\u001b[0m \u001b[0mpermutations\u001b[0m\u001b[0;34m(\u001b[0m\u001b[0;34m[\u001b[0m\u001b[0;36m0\u001b[0m\u001b[0;34m,\u001b[0m \u001b[0;36m1\u001b[0m\u001b[0;34m,\u001b[0m \u001b[0;36m2\u001b[0m\u001b[0;34m,\u001b[0m \u001b[0;36m3\u001b[0m\u001b[0;34m,\u001b[0m \u001b[0;36m4\u001b[0m\u001b[0;34m]\u001b[0m\u001b[0;34m)\u001b[0m\u001b[0;34m\u001b[0m\u001b[0;34m\u001b[0m\u001b[0m\n\u001b[1;32m      5\u001b[0m c = [[0, 0, 1, 1, 0], \n",
            "\u001b[0;31mModuleNotFoundError\u001b[0m: No module named 'datasketch'",
            "",
            "\u001b[0;31m---------------------------------------------------------------------------\u001b[0;32m\nNOTE: If your import is failing due to a missing package, you can\nmanually install dependencies using either !pip or !apt.\n\nTo view examples of installing some common dependencies, click the\n\"Open Examples\" button below.\n\u001b[0;31m---------------------------------------------------------------------------\u001b[0m\n"
          ]
        }
      ]
    },
    {
      "cell_type": "code",
      "metadata": {
        "id": "ZiUAK9LvIjn2",
        "outputId": "cfcd9766-6f66-44c1-cfec-d93662252898",
        "colab": {
          "base_uri": "https://localhost:8080/"
        }
      },
      "source": [
        "pip install datasketch"
      ],
      "execution_count": null,
      "outputs": [
        {
          "output_type": "stream",
          "text": [
            "Collecting datasketch\n",
            "\u001b[?25l  Downloading https://files.pythonhosted.org/packages/e9/7a/975274a59ab7e0117a8304ae97220b5800d31f69813c97753a79239dabac/datasketch-1.5.1-py2.py3-none-any.whl (73kB)\n",
            "\r\u001b[K     |████▌                           | 10kB 15.9MB/s eta 0:00:01\r\u001b[K     |█████████                       | 20kB 11.0MB/s eta 0:00:01\r\u001b[K     |█████████████▍                  | 30kB 7.4MB/s eta 0:00:01\r\u001b[K     |█████████████████▉              | 40kB 6.8MB/s eta 0:00:01\r\u001b[K     |██████████████████████▎         | 51kB 4.1MB/s eta 0:00:01\r\u001b[K     |██████████████████████████▉     | 61kB 4.6MB/s eta 0:00:01\r\u001b[K     |███████████████████████████████▎| 71kB 4.8MB/s eta 0:00:01\r\u001b[K     |████████████████████████████████| 81kB 3.6MB/s \n",
            "\u001b[?25hRequirement already satisfied: numpy>=1.11 in /usr/local/lib/python3.6/dist-packages (from datasketch) (1.18.5)\n",
            "Installing collected packages: datasketch\n",
            "Successfully installed datasketch-1.5.1\n"
          ],
          "name": "stdout"
        }
      ]
    }
  ]
}